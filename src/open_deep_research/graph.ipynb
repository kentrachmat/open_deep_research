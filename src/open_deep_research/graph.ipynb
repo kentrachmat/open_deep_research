{
 "cells": [
  {
   "cell_type": "markdown",
   "metadata": {},
   "source": [
    "https://github.com/langchain-ai/open_deep_research"
   ]
  },
  {
   "cell_type": "code",
   "execution_count": 1,
   "metadata": {},
   "outputs": [],
   "source": [
    "# ! pip install -U -q open-deep-research"
   ]
  },
  {
   "cell_type": "code",
   "execution_count": null,
   "metadata": {},
   "outputs": [
    {
     "name": "stdout",
     "output_type": "stream",
     "text": [
      "0.0.10\n"
     ]
    }
   ],
   "source": [
    "import open_deep_research   \n",
    "print(open_deep_research.__version__) \n",
    "\n",
    "import os\n",
    "\n",
    "os.environ[\"AZURE_OPENAI_API_KEY\"] = \"XXX\"\n",
    "os.environ[\"AZURE_OPENAI_API_VERSION\"] = \"XXX\"\n",
    "os.environ[\"OPENAI_API_VERSION\"] = \"XXX\"\n",
    "os.environ[\"AZURE_OPENAI_DEPLOYMENT_NAME\"] = \"XXX\"\n",
    "os.environ[\"MODEL_PROVIDER\"] = \"azure_openai\"\n",
    "os.environ[\"AZURE_OPENAI_ENDPOINT\"] = \"XXX\"\n",
    "\n",
    "os.environ[\"TAVILY_API_KEY\"] = \"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\"\n",
    "\n",
    "\n",
    "from IPython.display import Image, display\n",
    "from langgraph.types import Command\n",
    "from langgraph.checkpoint.memory import MemorySaver\n",
    "from open_deep_research.graph import builder\n",
    "\n",
    "memory = MemorySaver()\n",
    "graph = builder.compile(checkpointer=memory)\n",
    "# display(Image(graph.get_graph(xray=1).draw_mermaid_png()))\n",
    "\n",
    "# import os, getpass\n",
    "\n",
    "# def _set_env(var: str):\n",
    "#     if not os.environ.get(var):\n",
    "#         os.environ[var] = getpass.getpass(f\"{var}: \")\n",
    "\n",
    "# # Set the API keys used for any model or search tool selections below, such as:\n",
    "# _set_env(\"OPENAI_API_KEY\")\n",
    "# _set_env(\"TAVILY_API_KEY\")\n",
    "# _set_env(\"OPENAI_API_VERSION\")"
   ]
  },
  {
   "cell_type": "code",
   "execution_count": 7,
   "metadata": {},
   "outputs": [
    {
     "name": "stdout",
     "output_type": "stream",
     "text": [
      "yes right\n"
     ]
    }
   ],
   "source": [
    "import uuid \n",
    "from IPython.display import Markdown\n",
    "\n",
    "REPORT_STRUCTURE = \"\"\"Use this structure to create a report on the user-provided topic:\n",
    "\n",
    "1. Introduction (no research needed)\n",
    "   - Brief overview of the topic area\n",
    "\n",
    "2. Main Body Sections:\n",
    "   - Each section should focus on a sub-topic of the user-provided topic\n",
    "   \n",
    "3. Conclusion\n",
    "   - Aim for 1 structural element (either a list of table) that distills the main body sections \n",
    "   - Provide a concise summary of the report\"\"\"\n",
    "\n",
    "thread = {\"configurable\": {\"thread_id\": str(uuid.uuid4()),\n",
    "                           \"search_api\": \"tavily\",\n",
    "                           \"planner_provider\": os.environ[\"MODEL_PROVIDER\"],\n",
    "                           \"planner_model\": os.environ[\"AZURE_OPENAI_DEPLOYMENT_NAME\"],\n",
    "                           \"writer_provider\": os.environ[\"MODEL_PROVIDER\"],\n",
    "                           \"writer_model\": os.environ[\"AZURE_OPENAI_DEPLOYMENT_NAME\"], \n",
    "                           \"report_structure\": REPORT_STRUCTURE,\n",
    "                           \"max_search_depth\": 1,}\n",
    "                           } \n",
    "# Create a topic\n",
    "topic = \"Overview of the AI inference market with focus on Fireworks, Together.ai, Groq\"\n",
    "\n",
    "# Run the graph until the interruption\n",
    "async for event in graph.astream({\"topic\":topic,}, thread, stream_mode=\"updates\"):\n",
    "    if '__interrupt__' in event:\n",
    "        interrupt_value = event['compile_final_report']['final_report']\n",
    "        display(Markdown(interrupt_value))"
   ]
  },
  {
   "cell_type": "code",
   "execution_count": null,
   "metadata": {},
   "outputs": [],
   "source": [
    "# # Pass feedback to update the report plan  \n",
    "# async for event in graph.astream(Command(resume=\"Include individuals sections for Together.ai, Groq, and Fireworks with revenue estimates (ARR)\"), thread, stream_mode=\"updates\"):\n",
    "#     if '__interrupt__' in event:\n",
    "#         interrupt_value = event['__interrupt__'][0].value\n",
    "#         display(Markdown(interrupt_value))"
   ]
  }
 ],
 "metadata": {
  "kernelspec": {
   "display_name": ".venv",
   "language": "python",
   "name": "python3"
  },
  "language_info": {
   "codemirror_mode": {
    "name": "ipython",
    "version": 3
   },
   "file_extension": ".py",
   "mimetype": "text/x-python",
   "name": "python",
   "nbconvert_exporter": "python",
   "pygments_lexer": "ipython3",
   "version": "3.10.12"
  }
 },
 "nbformat": 4,
 "nbformat_minor": 2
}
